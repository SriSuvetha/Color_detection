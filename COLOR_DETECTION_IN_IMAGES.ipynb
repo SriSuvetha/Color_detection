{
 "cells": [
  {
   "cell_type": "markdown",
   "metadata": {
    "id": "eAV6BHbD7xYn"
   },
   "source": [
    "# **COLOR IDENTIFICATION IN IMAGES**\n",
    "\n",
    "Project done during the Computer vision and internet of things  Internship at The Sparks Foundation\n",
    "\n",
    "**Task:**Implement an image color detector which identifies all the colors in an\n",
    "image or video.\n",
    "\n",
    "# Done By- **SRI SUVETHA C S**"
   ]
  },
  {
   "cell_type": "markdown",
   "metadata": {},
   "source": [
    "## Importing dependencies"
   ]
  },
  {
   "cell_type": "code",
   "execution_count": 2,
   "metadata": {
    "id": "vMfvpKEf8Act"
   },
   "outputs": [],
   "source": [
    "import cv2 as cv\n",
    "import matplotlib.pyplot as plt\n",
    "import numpy as np\n",
    "import pandas as pd"
   ]
  },
  {
   "cell_type": "markdown",
   "metadata": {},
   "source": [
    "## Reading CSV File"
   ]
  },
  {
   "cell_type": "code",
   "execution_count": 5,
   "metadata": {
    "id": "Gr2F2cLoBN42"
   },
   "outputs": [],
   "source": [
    "csv_path ='colors.csv'"
   ]
  },
  {
   "cell_type": "code",
   "execution_count": 6,
   "metadata": {},
   "outputs": [
    {
     "name": "stdout",
     "output_type": "stream",
     "text": [
      "     air_force_blue_raf   Air Force Blue (Raf)  #5d8aa8   93  138  168\n",
      "0   air_force_blue_usaf  Air Force Blue (Usaf)  #00308f    0   48  143\n",
      "1  air_superiority_blue   Air Superiority Blue  #72a0c1  114  160  193\n",
      "2       alabama_crimson        Alabama Crimson  #a32638  163   38   56\n",
      "3            alice_blue             Alice Blue  #f0f8ff  240  248  255\n",
      "4      alizarin_crimson       Alizarin Crimson  #e32636  227   38   54\n"
     ]
    }
   ],
   "source": [
    "df = pd.read_csv(csv_path)\n",
    "print(df.head(5)) "
   ]
  },
  {
   "cell_type": "markdown",
   "metadata": {},
   "source": [
    "## Including Header"
   ]
  },
  {
   "cell_type": "code",
   "execution_count": 10,
   "metadata": {
    "id": "25lzb6TGBd5T"
   },
   "outputs": [
    {
     "name": "stdout",
     "output_type": "stream",
     "text": [
      "                  color             color_name      hex    R    G    B\n",
      "0    air_force_blue_raf   Air Force Blue (Raf)  #5d8aa8   93  138  168\n",
      "1   air_force_blue_usaf  Air Force Blue (Usaf)  #00308f    0   48  143\n",
      "2  air_superiority_blue   Air Superiority Blue  #72a0c1  114  160  193\n",
      "3       alabama_crimson        Alabama Crimson  #a32638  163   38   56\n",
      "4            alice_blue             Alice Blue  #f0f8ff  240  248  255\n"
     ]
    }
   ],
   "source": [
    "index = ['color', 'color_name', 'hex', 'R', 'G', 'B']\n",
    "\n",
    "df = pd.read_csv(csv_path, names=index, header=None)\n",
    "print(df.head(5)) "
   ]
  },
  {
   "cell_type": "markdown",
   "metadata": {},
   "source": [
    "## Reading and Resizing Images"
   ]
  },
  {
   "cell_type": "code",
   "execution_count": 11,
   "metadata": {
    "id": "fpkj5wZSBgqd"
   },
   "outputs": [],
   "source": [
    "img = cv.imread(\"color.jpg\")\n",
    "img = cv.resize(img, (500,500))"
   ]
  },
  {
   "cell_type": "markdown",
   "metadata": {},
   "source": [
    "## Calcuting minimum distance between img color "
   ]
  },
  {
   "cell_type": "code",
   "execution_count": 18,
   "metadata": {
    "id": "WNappc9TBiyd"
   },
   "outputs": [],
   "source": [
    "def get_color_name(R,G,B):\n",
    "    minimum = 1000 # minimum threshold of intensity\n",
    "    for i in range(len(df)):\n",
    "        # getting intensity value from image\n",
    "        d = abs(R - int(df.loc[i,'R'])) + abs(G - int(df.loc[i,'G'])) + abs(B - int(df.loc[i,'B'])) \n",
    "        if d <= minimum:\n",
    "            minimum = d\n",
    "            cname = df.loc[i, 'color_name'] # getting color name if intensity is less than threshold\n",
    "    return cname"
   ]
  },
  {
   "cell_type": "markdown",
   "metadata": {},
   "source": [
    "## Mouse Click to retrive RGB colors"
   ]
  },
  {
   "cell_type": "code",
   "execution_count": 24,
   "metadata": {
    "id": "B9HOYB6ABlyL"
   },
   "outputs": [],
   "source": [
    "#setting status as false unless Mouse move\n",
    "clicked = False\n",
    "\n",
    "#getting R, G & B data from mouse cursor position on X-Y Plane\n",
    "r = g = b = xpos = ypos = 0\n",
    "\n",
    "# Function to draw mouse cursor for easy navigation and to get (x,y) coordinates to Extract BGR range of colors :\n",
    "def draw_function(event, x, y, flags, params):\n",
    "    if event == cv.EVENT_MOUSEMOVE:\n",
    "        global b, g, r, xpos, ypos, clicked\n",
    "    clicked = True\n",
    "    xpos = x\n",
    "    ypos = y\n",
    "    b,g,r = img[y,x]\n",
    "    b = int(b)\n",
    "    g = int(g)\n",
    "    r = int(r)"
   ]
  },
  {
   "cell_type": "markdown",
   "metadata": {},
   "source": [
    "## Output"
   ]
  },
  {
   "cell_type": "code",
   "execution_count": 25,
   "metadata": {
    "id": "-hO6uqblBrhD"
   },
   "outputs": [],
   "source": [
    "cv.namedWindow('image')\n",
    "cv.setMouseCallback('image', draw_function)"
   ]
  },
  {
   "cell_type": "code",
   "execution_count": 26,
   "metadata": {
    "colab": {
     "base_uri": "https://localhost:8080/",
     "height": 231
    },
    "id": "OZT0XoOPBw8X",
    "outputId": "a333d60f-d9ad-465c-efdf-36a073217d30"
   },
   "outputs": [],
   "source": [
    "while True:\n",
    "    cv.imshow('image', img)\n",
    "    if clicked:\n",
    "        cv.rectangle(img, (20,20), (600,80), (b,g,r), -1)\n",
    "        text = get_color_name(r,g,b) + ' R=' + str(r) + ' G=' + str(g) + ' B=' + str(b)\n",
    "        cv.putText(img, text, (50,50), 2,0.8, (255,255,255),2,cv.LINE_AA)\n",
    "        if r+g+b >=600:\n",
    "            cv.putText(img, text, (50,50), 2,0.8, (0,0,0),2,cv.LINE_AA)\n",
    "    if cv.waitKey(1) & 0xFF == ord('q'):\n",
    "        break\n",
    "        \n",
    "cv.destroyAllWindows()"
   ]
  },
  {
   "cell_type": "code",
   "execution_count": null,
   "metadata": {},
   "outputs": [],
   "source": []
  }
 ],
 "metadata": {
  "colab": {
   "name": "COLOR DETECTION IN IMAGES.ipynb",
   "provenance": []
  },
  "kernelspec": {
   "display_name": "Python 3",
   "language": "python",
   "name": "python3"
  },
  "language_info": {
   "codemirror_mode": {
    "name": "ipython",
    "version": 3
   },
   "file_extension": ".py",
   "mimetype": "text/x-python",
   "name": "python",
   "nbconvert_exporter": "python",
   "pygments_lexer": "ipython3",
   "version": "3.7.10"
  }
 },
 "nbformat": 4,
 "nbformat_minor": 1
}
